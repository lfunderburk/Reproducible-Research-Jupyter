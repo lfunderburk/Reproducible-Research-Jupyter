{
 "cells": [
  {
   "cell_type": "markdown",
   "metadata": {},
   "source": [
    "# Jupyter Notebooks in the context of reproducible research\n",
    "\n",
    "In addition to acting as a tool for experimental coding, Jupyter notebooks can come in handy when sharing live code with others, as well as creating narratives. \n",
    "\n",
    "Within the Jupyter environment there are two main kinds of cells used to create narratives: Markdown cells and code-based cells. \n",
    "\n",
    "This cell is a Markdown cell for instance!\n",
    "\n",
    "Let's learn more about formatting. "
   ]
  },
  {
   "cell_type": "markdown",
   "metadata": {},
   "source": [
    "____\n",
    "## Part I: Headings\n",
    "\n",
    "Double click on this cell to see how formatting works. \n",
    "\n",
    "We can change the size and formatting of our text by using the hashtag # symbol.\n",
    "\n",
    "# Title \n",
    "## Heading 1\n",
    "### Heading 2\n",
    "#### Header 3\n",
    "##### Header 4\n",
    "\n",
    "We can also use the HTML language to add extra formatting options. \n",
    "\n",
    "<h1 align='center'>Centered Title</h1>\n",
    "<h2 align='center'>Centered Heading</h2>\n",
    "<h3 align='center'>Centered Heading</h3>\n",
    "<h4 align='center'>Centered Heading</h4>\n",
    "<h5 align='center'>Centered Heading</h5>\n",
    "<h6 align='center'>Centered Heading</h6>"
   ]
  },
  {
   "cell_type": "markdown",
   "metadata": {},
   "source": [
    "___\n",
    "\n",
    "## Part II: Tables\n",
    "\n",
    "We can create great looking tables within our markdown cell as follows\n",
    "\n",
    "| Column 1 | Column 2| Column 3| \n",
    "| - | - | - |\n",
    "| Entry 11| Entry 12 | Entry 13|\n",
    "| Entry 21| Entry 22 | Entry 23|\n",
    "| Entry 31| Entry 32 | Entry 33|\n",
    "\n",
    "### Exercise: Create a 2 by 2 table - populate it as you wish."
   ]
  },
  {
   "cell_type": "markdown",
   "metadata": {},
   "source": [
    "___\n",
    "## Part III: Mathematical Equations\n",
    "\n",
    "We can use LaTeX within Markdown cells to enter mathematical equations:\n",
    "\n",
    "$$\\frac{dS}{dt} = \\Delta - \\delta S(t) - \\alpha E(t)$$\n",
    "\n",
    "$$\\frac{dE}{dt} = \\alpha E(t) - \\delta E(t)$$\n",
    "\n",
    "$$S(0) = S_0, E(0) = E_0, N(0) = S_0 + E_0$$"
   ]
  },
  {
   "cell_type": "markdown",
   "metadata": {},
   "source": [
    "## Part IV: Importing images\n",
    "\n",
    "We can import images using the following notation:\n",
    "\n",
    "![Cat](https://imagesvc.meredithcorp.io/v3/mm/image?url=https%3A%2F%2Fstatic.onecms.io%2Fwp-content%2Fuploads%2Fsites%2F20%2F2018%2F04%2Floki_the_sphynx-01_1.jpg)\n",
    "\n",
    "And format the image using HTML\n",
    "\n",
    "<img src=\"https://imagesvc.meredithcorp.io/v3/mm/image?url=https%3A%2F%2Fstatic.onecms.io%2Fwp-content%2Fuploads%2Fsites%2F20%2F2018%2F04%2Floki_the_sphynx-01_1.jpg\" alt=\"Loki\" style=\"width:500px;height:500px;\"></img>\n",
    "\n",
    "<img src=\"https://imagesvc.meredithcorp.io/v3/mm/image?url=https%3A%2F%2Fstatic.onecms.io%2Fwp-content%2Fuploads%2Fsites%2F20%2F2018%2F04%2Floki_the_sphynx-01_1.jpg\" alt=\"Loki\" style=\"width:200px;height:200px;\"></img>\n",
    "\n",
    "<img src=\"https://imagesvc.meredithcorp.io/v3/mm/image?url=https%3A%2F%2Fstatic.onecms.io%2Fwp-content%2Fuploads%2Fsites%2F20%2F2018%2F04%2Floki_the_sphynx-01_1.jpg\" alt=\"Loki\" style=\"width:50px;height:50px;\"></img>\n",
    "\n"
   ]
  },
  {
   "cell_type": "markdown",
   "metadata": {},
   "source": [
    "## Embedding Links\n",
    "\n",
    "We can embed links as follows. \n",
    "\n",
    "Here is a link about [Loki the Grumpy Cat](https://www.boredpanda.com/grumpy-cat-loki-the-sphynx/?utm_source=google&utm_medium=organic&utm_campaign=organic).\n",
    "\n",
    "Using HTML \n",
    "\n",
    "<a href='https://www.boredpanda.com/grumpy-cat-loki-the-sphynx/?utm_source=google&utm_medium=organic&utm_campaign=organic' target=\"_blank\">Another way to embed the same link.</a>\n",
    "\n",
    "Using a similar format we can add a gif.\n",
    "\n",
    "![](https://media1.giphy.com/media/YmVNzDnboB0RQEpmLr/giphy.gif)"
   ]
  }
 ],
 "metadata": {
  "kernelspec": {
   "display_name": "Python 3",
   "language": "python",
   "name": "python3"
  },
  "language_info": {
   "codemirror_mode": {
    "name": "ipython",
    "version": 3
   },
   "file_extension": ".py",
   "mimetype": "text/x-python",
   "name": "python",
   "nbconvert_exporter": "python",
   "pygments_lexer": "ipython3",
   "version": "3.8.3"
  }
 },
 "nbformat": 4,
 "nbformat_minor": 4
}
